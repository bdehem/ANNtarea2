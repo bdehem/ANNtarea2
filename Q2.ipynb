{
 "cells": [
  {
   "cell_type": "markdown",
   "metadata": {},
   "source": [
    "# 2."
   ]
  },
  {
   "cell_type": "code",
   "execution_count": 1,
   "metadata": {
    "collapsed": true
   },
   "outputs": [],
   "source": [
    "def unpickle(file):\n",
    "    import cPickle\n",
    "    fo = open(file, 'rb')\n",
    "    dict = cPickle.load(fo)\n",
    "    fo.close()\n",
    "    return dict"
   ]
  },
  {
   "cell_type": "code",
   "execution_count": 2,
   "metadata": {
    "collapsed": false
   },
   "outputs": [],
   "source": [
    "import os\n",
    "import numpy as np\n",
    "def load_NORB_train_val(PATH):\n",
    "    xtr = []\n",
    "    ytr = []\n",
    "    xt  = []\n",
    "    yt  = []\n",
    "    xval = []\n",
    "    yval = []\n",
    "    for b in range(1,11):\n",
    "        f = os.path.join(PATH, 'data_batch_%d' % (b, ))\n",
    "        datadict = unpickle(f)\n",
    "        X = np.array(datadict['data'].T).astype(float)\n",
    "        Y = np.array(datadict['labels'],ndmin = 2).T\n",
    "        Z = np.concatenate((X,Y),axis=1)\n",
    "        np.random.shuffle(Z)\n",
    "        xtr.append(Z[5832:,0:-1])\n",
    "        ytr.append(Z[5832:,-1])\n",
    "        xval.append(Z[:5832,0:-1])\n",
    "        yval.append(Z[:5832,-1])\n",
    "    Xtr = np.concatenate(xtr)\n",
    "    Ytr = np.concatenate(ytr)\n",
    "    Xval = np.concatenate(xval)\n",
    "    Yval = np.concatenate(yval)\n",
    "    del xtr,ytr,xval,yval\n",
    "    for b in range(11,13):\n",
    "        f = os.path.join(PATH, 'data_batch_%d' % (b, ))\n",
    "        datadict = unpickle(f)\n",
    "        X = np.array(datadict['data'].T).astype(float)\n",
    "        Y = np.array(datadict['labels'],ndmin = 2).T\n",
    "        Z = np.concatenate((X,Y),axis=1)\n",
    "        xt.append(Z[:,0:-1])\n",
    "        yt.append(Z[:,-1])\n",
    "    Xt  = np.concatenate(xt)\n",
    "    Yt  = np.concatenate(yt)\n",
    "    del xt,yt\n",
    "    return Xtr, Ytr, Xt, Yt, Xval, Yval\n",
    "\n",
    "Xtr, Ytr, Xt, Yt, Xval, Yval = load_NORB_train_val(os.getcwd())"
   ]
  },
  {
   "cell_type": "code",
   "execution_count": 3,
   "metadata": {
    "collapsed": false
   },
   "outputs": [],
   "source": [
    "def get_scale_params(Xtr,Xt,Xval):\n",
    "    Xmin = min(np.amin(Xtr),np.amin(Xt),np.amin(Xval))\n",
    "    Xmax = max(np.amax(Xtr),np.amax(Xt),np.amax(Xval))\n",
    "    Xrange = (Xmax-Xmin)/2.0\n",
    "    Xcenter = (Xmax + Xmin)/2.0\n",
    "    return Xrange,Xcenter\n",
    "\n",
    "Xrange,Xcenter = get_scale_params(Xtr,Xt,Xval)"
   ]
  },
  {
   "cell_type": "code",
   "execution_count": 4,
   "metadata": {
    "collapsed": false
   },
   "outputs": [
    {
     "name": "stdout",
     "output_type": "stream",
     "text": [
      "(127.5, 127.5)\n"
     ]
    }
   ],
   "source": [
    "print(Xrange,Xcenter)"
   ]
  },
  {
   "cell_type": "code",
   "execution_count": 5,
   "metadata": {
    "collapsed": false
   },
   "outputs": [],
   "source": [
    "def scale_pix(X,Xrange,Xcenter):\n",
    "    X-=Xcenter\n",
    "    X/=Xrange\n",
    "\n",
    "scale_pix(Xtr ,Xrange,Xcenter)\n",
    "scale_pix(Xt  ,Xrange,Xcenter)\n",
    "scale_pix(Xval,Xrange,Xcenter)"
   ]
  },
  {
   "cell_type": "code",
   "execution_count": 13,
   "metadata": {
    "collapsed": false
   },
   "outputs": [],
   "source": [
    "from keras.utils import np_utils\n",
    "Y_train = np_utils.to_categorical(Ytr, 6)\n",
    "Y_test  = np_utils.to_categorical(Yt, 6)"
   ]
  },
  {
   "cell_type": "code",
   "execution_count": null,
   "metadata": {
    "collapsed": false
   },
   "outputs": [],
   "source": [
    "from keras.models import Sequential\n",
    "from keras.layers.core import Dense, Dropout, Activation, Flatten\n",
    "from keras.layers.convolutional import Convolution2D, MaxPooling2D,AveragePooling2D\n",
    "from keras.optimizers import SGD, Adadelta, Adagrad\n",
    "import time\n",
    "\n",
    "def learn(Xtr,Ytr,Xt,Yt,theta):\n",
    "    n_tr = len(Xtr)\n",
    "    n_s  = int(n_tr*theta)\n",
    "    X_train = Xtr[0:n_s,:]\n",
    "    Y_train = Ytr[0:n_s,:]\n",
    "    model = Sequential()\n",
    "    model.add(Dense(4000, activation='relu',  input_shape=(2048,)))\n",
    "    model.add(Dense(2000, activation='relu'))\n",
    "    model.add(Dense(6, activation='softmax'))\n",
    "\n",
    "    model.compile(loss='binary_crossentropy', optimizer='sgd', metrics=['accuracy'])\n",
    "    start = time.time()\n",
    "    h = model.fit(X_train, Y_train, batch_size=10, nb_epoch=6, verbose=1, validation_data=(Xt, Yt))\n",
    "    stop  = time.time()\n",
    "    t = stop - start\n",
    "    acc = h.history['val_acc'][-1]\n",
    "    return acc,model,t,h"
   ]
  },
  {
   "cell_type": "code",
   "execution_count": null,
   "metadata": {
    "collapsed": false
   },
   "outputs": [
    {
     "name": "stderr",
     "output_type": "stream",
     "text": [
      "WARNING (theano.tensor.blas): We did not found a dynamic library into the library_dir of the library we use for blas. If you use ATLAS, make sure to compile it with dynamics library.\n"
     ]
    },
    {
     "name": "stdout",
     "output_type": "stream",
     "text": [
      "Train on 23328 samples, validate on 58320 samples\n",
      "Epoch 1/6\n",
      " 7880/23328 [=========>....................] - ETA: 166s - loss: 0.4106 - acc: 0.8371"
     ]
    }
   ],
   "source": [
    "import matplotlib.pyplot as plt\n",
    "thetas = [0.1,0.2,0.3,0.4,0.5,0.6,0.7,0.8,0.9,1]\n",
    "acc = np.zeros(10)\n",
    "for i in range(10):\n",
    "    acc[i],model,t,h = learn(Xtr,Y_train,Xt,Y_test,thetas[i])\n",
    "    model.save('q2c_theta'+str(thetas[i])+'.h5')\n",
    "plt.plot(thetas,acc)\n",
    "plt.title('model accuracy for different ')\n",
    "plt.ylabel('accuracy reached')\n",
    "plt.xlabel('theta (ratio of labelled data)')\n",
    "plt.show()"
   ]
  }
 ],
 "metadata": {
  "kernelspec": {
   "display_name": "Python 2",
   "language": "python",
   "name": "python2"
  },
  "language_info": {
   "codemirror_mode": {
    "name": "ipython",
    "version": 2
   },
   "file_extension": ".py",
   "mimetype": "text/x-python",
   "name": "python",
   "nbconvert_exporter": "python",
   "pygments_lexer": "ipython2",
   "version": "2.7.12"
  }
 },
 "nbformat": 4,
 "nbformat_minor": 1
}
